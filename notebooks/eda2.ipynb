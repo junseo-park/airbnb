{
 "cells": [
  {
   "cell_type": "code",
   "execution_count": 70,
   "metadata": {
    "ExecuteTime": {
     "end_time": "2019-05-07T07:38:54.069730Z",
     "start_time": "2019-05-07T07:38:50.133335Z"
    }
   },
   "outputs": [],
   "source": [
    "import pandas as pd\n",
    "import geopandas as gpd\n",
    "import numpy as np\n",
    "import matplotlib.pyplot as plt\n",
    "import seaborn as sns\n",
    "from pathlib import Path\n",
    "import re\n",
    "import datetime\n",
    "\n",
    "DATA_DIR = Path('../data/')\n",
    "pd.set_option('max_columns', 999)"
   ]
  },
  {
   "cell_type": "markdown",
   "metadata": {},
   "source": [
    "# Loading data"
   ]
  },
  {
   "cell_type": "code",
   "execution_count": 30,
   "metadata": {
    "ExecuteTime": {
     "end_time": "2019-05-07T07:19:50.886333Z",
     "start_time": "2019-05-07T07:19:50.879477Z"
    }
   },
   "outputs": [],
   "source": [
    "# Extract list of dates, list of calendar filepaths, list of listing filepaths\n",
    "dates = [re.findall(r'_20(\\d{2})-(\\d{2})-(\\d{2}).*', cal_file.stem)[0] for cal_file in DATA_DIR.iterdir() if 'calendar' in cal_file.stem]\n",
    "cal_files = [cal_file for cal_file in DATA_DIR.iterdir() if 'calendar' in cal_file.stem]\n",
    "# listing_files = [listing_file for listing_file in DATA_DIR.iterdir() if 'listing' in listing_file.stem]"
   ]
  },
  {
   "cell_type": "code",
   "execution_count": 31,
   "metadata": {
    "ExecuteTime": {
     "end_time": "2019-05-07T07:19:51.928560Z",
     "start_time": "2019-05-07T07:19:51.919601Z"
    }
   },
   "outputs": [
    {
     "data": {
      "text/plain": [
       "[('16', '04', '03'),\n",
       " ('16', '05', '02'),\n",
       " ('16', '06', '02'),\n",
       " ('16', '07', '02'),\n",
       " ('16', '08', '02'),\n",
       " ('16', '09', '02'),\n",
       " ('16', '10', '01'),\n",
       " ('16', '11', '02'),\n",
       " ('16', '12', '03'),\n",
       " ('17', '01', '01'),\n",
       " ('17', '02', '02'),\n",
       " ('17', '03', '02'),\n",
       " ('17', '04', '02'),\n",
       " ('17', '05', '02'),\n",
       " ('17', '06', '02'),\n",
       " ('17', '07', '02'),\n",
       " ('17', '08', '02'),\n",
       " ('17', '09', '02'),\n",
       " ('17', '10', '02'),\n",
       " ('17', '11', '01'),\n",
       " ('17', '12', '02'),\n",
       " ('18', '01', '10'),\n",
       " ('18', '02', '02'),\n",
       " ('18', '03', '04'),\n",
       " ('18', '04', '06'),\n",
       " ('18', '05', '09')]"
      ]
     },
     "execution_count": 31,
     "metadata": {},
     "output_type": "execute_result"
    }
   ],
   "source": [
    "dates"
   ]
  },
  {
   "cell_type": "code",
   "execution_count": 3,
   "metadata": {
    "ExecuteTime": {
     "end_time": "2019-05-06T20:14:36.406235Z",
     "start_time": "2019-05-06T20:13:18.042624Z"
    }
   },
   "outputs": [],
   "source": [
    "# # Read in data for each month from 04/2016 to 05/2018 (runtime: 2m)\n",
    "# # for date, cal, listing in zip(dates, cal_files, listing_files):\n",
    "# for date, cal in zip(dates, cal_files):\n",
    "#     # For April 2016, 'cal_1604' and 'listing_1604'\n",
    "# #     exec(\"listing_\" + str(date[0]) + str(date[1]) + \" = pd.read_csv(listing, compression='gzip')\")\n",
    "#     exec(\"cal_\" + str(date[0]) + str(date[1]) + \" = pd.read_csv(cal, compression='gzip')\")"
   ]
  },
  {
   "cell_type": "code",
   "execution_count": 4,
   "metadata": {
    "ExecuteTime": {
     "end_time": "2019-05-07T06:53:21.993181Z",
     "start_time": "2019-05-07T06:53:21.989566Z"
    }
   },
   "outputs": [],
   "source": [
    "# # Create list of all calendars and listings\n",
    "\n",
    "# listings, cals = [], []\n",
    "# # [exec(\"listings.append(listing_\" + str(date[0]) + str(date[1]) + \")\") for date in dates]\n",
    "# [exec(\"cals.append(cal_\" + str(date[0]) + str(date[1]) + \")\") for date in dates]"
   ]
  },
  {
   "cell_type": "code",
   "execution_count": 5,
   "metadata": {
    "ExecuteTime": {
     "end_time": "2019-05-07T06:53:22.117885Z",
     "start_time": "2019-05-07T06:53:22.115187Z"
    }
   },
   "outputs": [],
   "source": [
    "# listing_1604.head()"
   ]
  },
  {
   "cell_type": "code",
   "execution_count": 6,
   "metadata": {
    "ExecuteTime": {
     "end_time": "2019-05-07T06:53:22.244466Z",
     "start_time": "2019-05-07T06:53:22.241491Z"
    }
   },
   "outputs": [],
   "source": [
    "# cal_1604.head()"
   ]
  },
  {
   "cell_type": "markdown",
   "metadata": {},
   "source": [
    "# Preprocessing"
   ]
  },
  {
   "cell_type": "code",
   "execution_count": 7,
   "metadata": {
    "ExecuteTime": {
     "end_time": "2019-05-07T06:53:28.571928Z",
     "start_time": "2019-05-07T06:53:28.568249Z"
    }
   },
   "outputs": [],
   "source": [
    "# # Convert calendar date to datetime, and remove $ from price (runtime: 3m)\n",
    "# for i in range(len(cals)):\n",
    "#     cals[i]['date'] = pd.to_datetime(cals[i]['date'])\n",
    "#     cals[i]['price'] = (\n",
    "#         cals[i]\n",
    "#         .loc[:, 'price']\n",
    "#         .str.extract(r'\\$(.*)', expand=False)\n",
    "#         .str.replace(r',', '')\n",
    "#         .astype(np.float_)\n",
    "#     )"
   ]
  },
  {
   "cell_type": "markdown",
   "metadata": {},
   "source": [
    "# Pipeline for extracting data for events"
   ]
  },
  {
   "cell_type": "code",
   "execution_count": 32,
   "metadata": {
    "ExecuteTime": {
     "end_time": "2019-05-07T07:19:54.529709Z",
     "start_time": "2019-05-07T07:19:54.525998Z"
    }
   },
   "outputs": [],
   "source": [
    "EVENT_START = pd.Timestamp(2017, 11, 1)\n",
    "EVENT_END = pd.Timestamp(2017, 11, 15)"
   ]
  },
  {
   "cell_type": "code",
   "execution_count": 26,
   "metadata": {
    "ExecuteTime": {
     "end_time": "2019-05-07T07:15:12.745300Z",
     "start_time": "2019-05-07T07:13:11.774233Z"
    }
   },
   "outputs": [
    {
     "name": "stderr",
     "output_type": "stream",
     "text": [
      "SettingWithCopyWarning: \n",
      "A value is trying to be set on a copy of a slice from a DataFrame.\n",
      "Try using .loc[row_indexer,col_indexer] = value instead\n",
      "\n",
      "See the caveats in the documentation: http://pandas.pydata.org/pandas-docs/stable/indexing.html#indexing-view-versus-copy\n"
     ]
    }
   ],
   "source": [
    "final_cal = None\n",
    "for date, filepath in zip(dates[8:20], cal_files[8:20]):\n",
    "    data = pd.read_csv(filepath, compression='gzip')\n",
    "    data['date'] = pd.to_datetime(data['date'])\n",
    "    data['price'] = (\n",
    "        data\n",
    "        .loc[:, 'price']\n",
    "        .str.extract(r'\\$(.*)', expand=False)\n",
    "        .str.replace(r',', '')\n",
    "        .astype(np.float_)\n",
    "    )\n",
    "    subset = data[(data['date'] >= EVENT_START) & (data['date'] <= EVENT_END)]\n",
    "    subset['scraped'] = pd.Timestamp(2000 + int(date[0]), int(date[1]), int(date[2]))\n",
    "    if final_cal is None:\n",
    "        final_cal = subset\n",
    "    else:\n",
    "        final_cal = pd.concat([final_cal, subset])"
   ]
  },
  {
   "cell_type": "code",
   "execution_count": null,
   "metadata": {},
   "outputs": [],
   "source": [
    "def get_cal_data(event_start, event_end, dates, cal_files):\n",
    "    final_cal = None\n",
    "    for date, filepath in zip(dates, cal_files):\n",
    "        data = pd.read_csv(filepath, compression='gzip')\n",
    "        data['date'] = pd.to_datetime(data['date'])\n",
    "        data['price'] = (\n",
    "            data\n",
    "            .loc[:, 'price']\n",
    "            .str.extract(r'\\$(.*)', expand=False)\n",
    "            .str.replace(r',', '')\n",
    "            .astype(np.float_)\n",
    "        )\n",
    "        subset = data[(data['date'] >= EVENT_START) & (data['date'] <= EVENT_END)]\n",
    "        subset['scraped'] = pd.Timestamp(2000 + int(date[0]), int(date[1]), int(date[2]))\n",
    "        if final_cal is None:\n",
    "            final_cal = subset\n",
    "        else:\n",
    "            final_cal = pd.concat([final_cal, subset])\n",
    "    \n",
    "    del data\n",
    "    return final_cal"
   ]
  },
  {
   "cell_type": "code",
   "execution_count": 40,
   "metadata": {
    "ExecuteTime": {
     "end_time": "2019-05-07T07:22:20.155116Z",
     "start_time": "2019-05-07T07:22:20.104861Z"
    }
   },
   "outputs": [
    {
     "data": {
      "text/plain": [
       "listing_id    0.000000\n",
       "date          0.000000\n",
       "available     0.000000\n",
       "price         0.633583\n",
       "scraped       0.000000\n",
       "dtype: float64"
      ]
     },
     "execution_count": 40,
     "metadata": {},
     "output_type": "execute_result"
    }
   ],
   "source": [
    "final_cal[final_cal['scraped'] == pd.Timestamp(2016, 12, 3)].isnull().mean()"
   ]
  },
  {
   "cell_type": "code",
   "execution_count": 35,
   "metadata": {
    "ExecuteTime": {
     "end_time": "2019-05-07T07:20:19.791172Z",
     "start_time": "2019-05-07T07:20:19.785996Z"
    }
   },
   "outputs": [
    {
     "data": {
      "text/plain": [
       "(1592835, 5)"
      ]
     },
     "execution_count": 35,
     "metadata": {},
     "output_type": "execute_result"
    }
   ],
   "source": [
    "final_cal.shape"
   ]
  },
  {
   "cell_type": "code",
   "execution_count": 85,
   "metadata": {
    "ExecuteTime": {
     "end_time": "2019-05-07T07:58:51.920106Z",
     "start_time": "2019-05-07T07:58:51.627387Z"
    }
   },
   "outputs": [],
   "source": [
    "medians = final_cal.groupby(['date', 'scraped']).median().drop(columns='listing_id').reset_index()\n",
    "medians['conference'] = pd.cut(medians['date'], \n",
    "                               bins=[pd.Timestamp(2017, 11, 1), pd.Timestamp(2017, 11, 3), \n",
    "                                     pd.Timestamp(2017, 11, 9), pd.Timestamp(2017, 11, 15)], \n",
    "                               right=True,\n",
    "                               labels=['Before', 'During', 'After'])"
   ]
  },
  {
   "cell_type": "code",
   "execution_count": 89,
   "metadata": {
    "ExecuteTime": {
     "end_time": "2019-05-07T07:59:37.128492Z",
     "start_time": "2019-05-07T07:59:34.964522Z"
    }
   },
   "outputs": [
    {
     "data": {
      "image/png": "[encoded data removed]",
      "text/plain": [
       "<Figure size 720x504 with 1 Axes>"
      ]
     },
     "metadata": {},
     "output_type": "display_data"
    }
   ],
   "source": [
    "plt.figure(figsize=(10, 7))\n",
    "sns.lineplot(data=medians.reset_index(), x='scraped', y='price', hue='conference');"
   ]
  },
  {
   "cell_type": "code",
   "execution_count": 50,
   "metadata": {
    "ExecuteTime": {
     "end_time": "2019-05-07T07:34:08.611442Z",
     "start_time": "2019-05-07T07:34:08.578865Z"
    }
   },
   "outputs": [
    {
     "ename": "TypeError",
     "evalue": "'('2017-11-01', slice(None, None, None))' is an invalid key",
     "output_type": "error",
     "traceback": [
      "\u001b[0;31m---------------------------------------------------------------------------\u001b[0m",
      "\u001b[0;31mTypeError\u001b[0m                                 Traceback (most recent call last)",
      "\u001b[0;32m<ipython-input-50-cc0ddbcc4552>\u001b[0m in \u001b[0;36m<module>\u001b[0;34m()\u001b[0m\n\u001b[0;32m----> 1\u001b[0;31m \u001b[0mplt\u001b[0m\u001b[0;34m.\u001b[0m\u001b[0mplot\u001b[0m\u001b[0;34m(\u001b[0m\u001b[0mmedians\u001b[0m\u001b[0;34m[\u001b[0m\u001b[0;34m'2017-11-01'\u001b[0m\u001b[0;34m,\u001b[0m \u001b[0;34m:\u001b[0m\u001b[0;34m]\u001b[0m\u001b[0;34m)\u001b[0m\u001b[0;34m\u001b[0m\u001b[0;34m\u001b[0m\u001b[0m\n\u001b[0m",
      "\u001b[0;32m/mnt/c/Users/Junseo/Documents/data-science/.env/lib/python3.6/site-packages/pandas/core/frame.py\u001b[0m in \u001b[0;36m__getitem__\u001b[0;34m(self, key)\u001b[0m\n\u001b[1;32m   2925\u001b[0m             \u001b[0;32mif\u001b[0m \u001b[0mself\u001b[0m\u001b[0;34m.\u001b[0m\u001b[0mcolumns\u001b[0m\u001b[0;34m.\u001b[0m\u001b[0mnlevels\u001b[0m \u001b[0;34m>\u001b[0m \u001b[0;36m1\u001b[0m\u001b[0;34m:\u001b[0m\u001b[0;34m\u001b[0m\u001b[0;34m\u001b[0m\u001b[0m\n\u001b[1;32m   2926\u001b[0m                 \u001b[0;32mreturn\u001b[0m \u001b[0mself\u001b[0m\u001b[0;34m.\u001b[0m\u001b[0m_getitem_multilevel\u001b[0m\u001b[0;34m(\u001b[0m\u001b[0mkey\u001b[0m\u001b[0;34m)\u001b[0m\u001b[0;34m\u001b[0m\u001b[0;34m\u001b[0m\u001b[0m\n\u001b[0;32m-> 2927\u001b[0;31m             \u001b[0mindexer\u001b[0m \u001b[0;34m=\u001b[0m \u001b[0mself\u001b[0m\u001b[0;34m.\u001b[0m\u001b[0mcolumns\u001b[0m\u001b[0;34m.\u001b[0m\u001b[0mget_loc\u001b[0m\u001b[0;34m(\u001b[0m\u001b[0mkey\u001b[0m\u001b[0;34m)\u001b[0m\u001b[0;34m\u001b[0m\u001b[0;34m\u001b[0m\u001b[0m\n\u001b[0m\u001b[1;32m   2928\u001b[0m             \u001b[0;32mif\u001b[0m \u001b[0mis_integer\u001b[0m\u001b[0;34m(\u001b[0m\u001b[0mindexer\u001b[0m\u001b[0;34m)\u001b[0m\u001b[0;34m:\u001b[0m\u001b[0;34m\u001b[0m\u001b[0;34m\u001b[0m\u001b[0m\n\u001b[1;32m   2929\u001b[0m                 \u001b[0mindexer\u001b[0m \u001b[0;34m=\u001b[0m \u001b[0;34m[\u001b[0m\u001b[0mindexer\u001b[0m\u001b[0;34m]\u001b[0m\u001b[0;34m\u001b[0m\u001b[0;34m\u001b[0m\u001b[0m\n",
      "\u001b[0;32m/mnt/c/Users/Junseo/Documents/data-science/.env/lib/python3.6/site-packages/pandas/core/indexes/base.py\u001b[0m in \u001b[0;36mget_loc\u001b[0;34m(self, key, method, tolerance)\u001b[0m\n\u001b[1;32m   2655\u001b[0m                                  'backfill or nearest lookups')\n\u001b[1;32m   2656\u001b[0m             \u001b[0;32mtry\u001b[0m\u001b[0;34m:\u001b[0m\u001b[0;34m\u001b[0m\u001b[0;34m\u001b[0m\u001b[0m\n\u001b[0;32m-> 2657\u001b[0;31m                 \u001b[0;32mreturn\u001b[0m \u001b[0mself\u001b[0m\u001b[0;34m.\u001b[0m\u001b[0m_engine\u001b[0m\u001b[0;34m.\u001b[0m\u001b[0mget_loc\u001b[0m\u001b[0;34m(\u001b[0m\u001b[0mkey\u001b[0m\u001b[0;34m)\u001b[0m\u001b[0;34m\u001b[0m\u001b[0;34m\u001b[0m\u001b[0m\n\u001b[0m\u001b[1;32m   2658\u001b[0m             \u001b[0;32mexcept\u001b[0m \u001b[0mKeyError\u001b[0m\u001b[0;34m:\u001b[0m\u001b[0;34m\u001b[0m\u001b[0;34m\u001b[0m\u001b[0m\n\u001b[1;32m   2659\u001b[0m                 \u001b[0;32mreturn\u001b[0m \u001b[0mself\u001b[0m\u001b[0;34m.\u001b[0m\u001b[0m_engine\u001b[0m\u001b[0;34m.\u001b[0m\u001b[0mget_loc\u001b[0m\u001b[0;34m(\u001b[0m\u001b[0mself\u001b[0m\u001b[0;34m.\u001b[0m\u001b[0m_maybe_cast_indexer\u001b[0m\u001b[0;34m(\u001b[0m\u001b[0mkey\u001b[0m\u001b[0;34m)\u001b[0m\u001b[0;34m)\u001b[0m\u001b[0;34m\u001b[0m\u001b[0;34m\u001b[0m\u001b[0m\n",
      "\u001b[0;32mpandas/_libs/index.pyx\u001b[0m in \u001b[0;36mpandas._libs.index.IndexEngine.get_loc\u001b[0;34m()\u001b[0m\n",
      "\u001b[0;32mpandas/_libs/index.pyx\u001b[0m in \u001b[0;36mpandas._libs.index.IndexEngine.get_loc\u001b[0;34m()\u001b[0m\n",
      "\u001b[0;31mTypeError\u001b[0m: '('2017-11-01', slice(None, None, None))' is an invalid key"
     ]
    }
   ],
   "source": [
    "plt.plot(medians['2017-11-01'])"
   ]
  },
  {
   "cell_type": "markdown",
   "metadata": {},
   "source": [
    "# Neighborhods"
   ]
  },
  {
   "cell_type": "code",
   "execution_count": 75,
   "metadata": {
    "ExecuteTime": {
     "end_time": "2019-05-06T19:27:29.967197Z",
     "start_time": "2019-05-06T19:27:29.492700Z"
    }
   },
   "outputs": [],
   "source": [
    "neighborhoods = gpd.read_file('../data/neighbourhoods.geojson')"
   ]
  },
  {
   "cell_type": "code",
   "execution_count": 79,
   "metadata": {
    "ExecuteTime": {
     "end_time": "2019-05-06T19:28:20.730110Z",
     "start_time": "2019-05-06T19:28:20.093363Z"
    }
   },
   "outputs": [
    {
     "data": {
      "text/plain": [
       "<matplotlib.axes._subplots.AxesSubplot at 0x7fe301b7e9b0>"
      ]
     },
     "execution_count": 79,
     "metadata": {},
     "output_type": "execute_result"
    },
    {
     "data": {
      "image/png": "[encoded data removed]",
      "text/plain": [
       "<Figure size 720x504 with 1 Axes>"
      ]
     },
     "metadata": {},
     "output_type": "display_data"
    }
   ],
   "source": [
    "fig, ax = plt.subplots(figsize=(10, 7))\n",
    "neighborhoods.plot(ax=ax)"
   ]
  },
  {
   "cell_type": "code",
   "execution_count": 80,
   "metadata": {
    "ExecuteTime": {
     "end_time": "2019-05-06T19:29:07.571719Z",
     "start_time": "2019-05-06T19:29:07.343528Z"
    }
   },
   "outputs": [
    {
     "data": {
      "text/html": [
       "<div>\n",
       "<style scoped>\n",
       "    .dataframe tbody tr th:only-of-type {\n",
       "        vertical-align: middle;\n",
       "    }\n",
       "\n",
       "    .dataframe tbody tr th {\n",
       "        vertical-align: top;\n",
       "    }\n",
       "\n",
       "    .dataframe thead th {\n",
       "        text-align: right;\n",
       "    }\n",
       "</style>\n",
       "<table border=\"1\" class=\"dataframe\">\n",
       "  <thead>\n",
       "    <tr style=\"text-align: right;\">\n",
       "      <th></th>\n",
       "      <th>neighbourhood</th>\n",
       "      <th>neighbourhood_group</th>\n",
       "      <th>geometry</th>\n",
       "    </tr>\n",
       "  </thead>\n",
       "  <tbody>\n",
       "    <tr>\n",
       "      <th>0</th>\n",
       "      <td>Seacliff</td>\n",
       "      <td>None</td>\n",
       "      <td>(POLYGON ((-122.484089 37.78791, -122.484346 3...</td>\n",
       "    </tr>\n",
       "    <tr>\n",
       "      <th>1</th>\n",
       "      <td>Haight Ashbury</td>\n",
       "      <td>None</td>\n",
       "      <td>(POLYGON ((-122.435964 37.769038, -122.436851 ...</td>\n",
       "    </tr>\n",
       "    <tr>\n",
       "      <th>2</th>\n",
       "      <td>Outer Mission</td>\n",
       "      <td>None</td>\n",
       "      <td>(POLYGON ((-122.454284 37.708222, -122.45456 3...</td>\n",
       "    </tr>\n",
       "    <tr>\n",
       "      <th>3</th>\n",
       "      <td>Downtown/Civic Center</td>\n",
       "      <td>None</td>\n",
       "      <td>(POLYGON ((-122.408912 37.790132, -122.408797 ...</td>\n",
       "    </tr>\n",
       "    <tr>\n",
       "      <th>4</th>\n",
       "      <td>Diamond Heights</td>\n",
       "      <td>None</td>\n",
       "      <td>(POLYGON ((-122.435527 37.74146, -122.435632 3...</td>\n",
       "    </tr>\n",
       "    <tr>\n",
       "      <th>5</th>\n",
       "      <td>Lakeshore</td>\n",
       "      <td>None</td>\n",
       "      <td>(POLYGON ((-122.471051 37.708198, -122.472829 ...</td>\n",
       "    </tr>\n",
       "    <tr>\n",
       "      <th>6</th>\n",
       "      <td>Russian Hill</td>\n",
       "      <td>None</td>\n",
       "      <td>(POLYGON ((-122.420952 37.808967, -122.420614 ...</td>\n",
       "    </tr>\n",
       "    <tr>\n",
       "      <th>7</th>\n",
       "      <td>Noe Valley</td>\n",
       "      <td>None</td>\n",
       "      <td>(POLYGON ((-122.425578 37.756617, -122.424949 ...</td>\n",
       "    </tr>\n",
       "    <tr>\n",
       "      <th>8</th>\n",
       "      <td>Inner Sunset</td>\n",
       "      <td>None</td>\n",
       "      <td>(POLYGON ((-122.451436 37.758735, -122.451399 ...</td>\n",
       "    </tr>\n",
       "    <tr>\n",
       "      <th>9</th>\n",
       "      <td>Treasure Island/YBI</td>\n",
       "      <td>None</td>\n",
       "      <td>(POLYGON ((-122.373133 37.832253, -122.368622 ...</td>\n",
       "    </tr>\n",
       "    <tr>\n",
       "      <th>10</th>\n",
       "      <td>Outer Richmond</td>\n",
       "      <td>None</td>\n",
       "      <td>(POLYGON ((-122.478735 37.786898, -122.477816 ...</td>\n",
       "    </tr>\n",
       "    <tr>\n",
       "      <th>11</th>\n",
       "      <td>Crocker Amazon</td>\n",
       "      <td>None</td>\n",
       "      <td>(POLYGON ((-122.42085 37.708335, -122.423878 3...</td>\n",
       "    </tr>\n",
       "    <tr>\n",
       "      <th>12</th>\n",
       "      <td>Excelsior</td>\n",
       "      <td>None</td>\n",
       "      <td>(POLYGON ((-122.440824 37.716455, -122.438284 ...</td>\n",
       "    </tr>\n",
       "    <tr>\n",
       "      <th>13</th>\n",
       "      <td>Parkside</td>\n",
       "      <td>None</td>\n",
       "      <td>(POLYGON ((-122.469641 37.738545, -122.470607 ...</td>\n",
       "    </tr>\n",
       "    <tr>\n",
       "      <th>14</th>\n",
       "      <td>Financial District</td>\n",
       "      <td>None</td>\n",
       "      <td>(POLYGON ((-122.394252 37.800074, -122.394244 ...</td>\n",
       "    </tr>\n",
       "    <tr>\n",
       "      <th>15</th>\n",
       "      <td>Ocean View</td>\n",
       "      <td>None</td>\n",
       "      <td>(POLYGON ((-122.459123 37.708218, -122.459728 ...</td>\n",
       "    </tr>\n",
       "    <tr>\n",
       "      <th>16</th>\n",
       "      <td>Mission</td>\n",
       "      <td>None</td>\n",
       "      <td>(POLYGON ((-122.424756 37.747849, -122.424949 ...</td>\n",
       "    </tr>\n",
       "    <tr>\n",
       "      <th>17</th>\n",
       "      <td>West of Twin Peaks</td>\n",
       "      <td>None</td>\n",
       "      <td>(POLYGON ((-122.452524 37.723167, -122.456948 ...</td>\n",
       "    </tr>\n",
       "    <tr>\n",
       "      <th>18</th>\n",
       "      <td>Inner Richmond</td>\n",
       "      <td>None</td>\n",
       "      <td>(POLYGON ((-122.446457 37.775805, -122.454635 ...</td>\n",
       "    </tr>\n",
       "    <tr>\n",
       "      <th>19</th>\n",
       "      <td>Marina</td>\n",
       "      <td>None</td>\n",
       "      <td>(POLYGON ((-122.446806 37.805401, -122.44678 3...</td>\n",
       "    </tr>\n",
       "    <tr>\n",
       "      <th>20</th>\n",
       "      <td>Bayview</td>\n",
       "      <td>None</td>\n",
       "      <td>(POLYGON ((-122.388108 37.747803, -122.3881 37...</td>\n",
       "    </tr>\n",
       "    <tr>\n",
       "      <th>21</th>\n",
       "      <td>Visitacion Valley</td>\n",
       "      <td>None</td>\n",
       "      <td>(POLYGON ((-122.394984 37.70841, -122.399685 3...</td>\n",
       "    </tr>\n",
       "    <tr>\n",
       "      <th>22</th>\n",
       "      <td>Pacific Heights</td>\n",
       "      <td>None</td>\n",
       "      <td>(POLYGON ((-122.446825 37.787251, -122.447228 ...</td>\n",
       "    </tr>\n",
       "    <tr>\n",
       "      <th>23</th>\n",
       "      <td>Presidio Heights</td>\n",
       "      <td>None</td>\n",
       "      <td>(POLYGON ((-122.4626 37.789041, -122.460923 37...</td>\n",
       "    </tr>\n",
       "    <tr>\n",
       "      <th>24</th>\n",
       "      <td>South of Market</td>\n",
       "      <td>None</td>\n",
       "      <td>(POLYGON ((-122.387425 37.7805, -122.387407 37...</td>\n",
       "    </tr>\n",
       "    <tr>\n",
       "      <th>25</th>\n",
       "      <td>Glen Park</td>\n",
       "      <td>None</td>\n",
       "      <td>(POLYGON ((-122.424183 37.742262, -122.423941 ...</td>\n",
       "    </tr>\n",
       "    <tr>\n",
       "      <th>26</th>\n",
       "      <td>Potrero Hill</td>\n",
       "      <td>None</td>\n",
       "      <td>(POLYGON ((-122.379963 37.752061, -122.382792 ...</td>\n",
       "    </tr>\n",
       "    <tr>\n",
       "      <th>27</th>\n",
       "      <td>Castro/Upper Market</td>\n",
       "      <td>None</td>\n",
       "      <td>(POLYGON ((-122.446438 37.761036, -122.446408 ...</td>\n",
       "    </tr>\n",
       "    <tr>\n",
       "      <th>28</th>\n",
       "      <td>Twin Peaks</td>\n",
       "      <td>None</td>\n",
       "      <td>(POLYGON ((-122.46142 37.751562, -122.460354 3...</td>\n",
       "    </tr>\n",
       "    <tr>\n",
       "      <th>29</th>\n",
       "      <td>Bernal Heights</td>\n",
       "      <td>None</td>\n",
       "      <td>(POLYGON ((-122.428255 37.731785, -122.428147 ...</td>\n",
       "    </tr>\n",
       "    <tr>\n",
       "      <th>30</th>\n",
       "      <td>Chinatown</td>\n",
       "      <td>None</td>\n",
       "      <td>(POLYGON ((-122.408767 37.790163, -122.408797 ...</td>\n",
       "    </tr>\n",
       "    <tr>\n",
       "      <th>31</th>\n",
       "      <td>North Beach</td>\n",
       "      <td>None</td>\n",
       "      <td>(POLYGON ((-122.410635 37.809724, -122.410898 ...</td>\n",
       "    </tr>\n",
       "    <tr>\n",
       "      <th>32</th>\n",
       "      <td>Presidio</td>\n",
       "      <td>None</td>\n",
       "      <td>(POLYGON ((-122.447983 37.806972, -122.447876 ...</td>\n",
       "    </tr>\n",
       "    <tr>\n",
       "      <th>33</th>\n",
       "      <td>Nob Hill</td>\n",
       "      <td>None</td>\n",
       "      <td>(POLYGON ((-122.418609 37.78891, -122.421954 3...</td>\n",
       "    </tr>\n",
       "    <tr>\n",
       "      <th>34</th>\n",
       "      <td>Outer Sunset</td>\n",
       "      <td>None</td>\n",
       "      <td>(POLYGON ((-122.476014 37.748679, -122.475881 ...</td>\n",
       "    </tr>\n",
       "    <tr>\n",
       "      <th>35</th>\n",
       "      <td>Western Addition</td>\n",
       "      <td>None</td>\n",
       "      <td>(POLYGON ((-122.422213 37.772905, -122.423269 ...</td>\n",
       "    </tr>\n",
       "    <tr>\n",
       "      <th>36</th>\n",
       "      <td>Golden Gate Park</td>\n",
       "      <td>None</td>\n",
       "      <td>(POLYGON ((-122.454691 37.774696, -122.453014 ...</td>\n",
       "    </tr>\n",
       "  </tbody>\n",
       "</table>\n",
       "</div>"
      ],
      "text/plain": [
       "            neighbourhood neighbourhood_group  \\\n",
       "0                Seacliff                None   \n",
       "1          Haight Ashbury                None   \n",
       "2           Outer Mission                None   \n",
       "3   Downtown/Civic Center                None   \n",
       "4         Diamond Heights                None   \n",
       "5               Lakeshore                None   \n",
       "6            Russian Hill                None   \n",
       "7              Noe Valley                None   \n",
       "8            Inner Sunset                None   \n",
       "9     Treasure Island/YBI                None   \n",
       "10         Outer Richmond                None   \n",
       "11         Crocker Amazon                None   \n",
       "12              Excelsior                None   \n",
       "13               Parkside                None   \n",
       "14     Financial District                None   \n",
       "15             Ocean View                None   \n",
       "16                Mission                None   \n",
       "17     West of Twin Peaks                None   \n",
       "18         Inner Richmond                None   \n",
       "19                 Marina                None   \n",
       "20                Bayview                None   \n",
       "21      Visitacion Valley                None   \n",
       "22        Pacific Heights                None   \n",
       "23       Presidio Heights                None   \n",
       "24        South of Market                None   \n",
       "25              Glen Park                None   \n",
       "26           Potrero Hill                None   \n",
       "27    Castro/Upper Market                None   \n",
       "28             Twin Peaks                None   \n",
       "29         Bernal Heights                None   \n",
       "30              Chinatown                None   \n",
       "31            North Beach                None   \n",
       "32               Presidio                None   \n",
       "33               Nob Hill                None   \n",
       "34           Outer Sunset                None   \n",
       "35       Western Addition                None   \n",
       "36       Golden Gate Park                None   \n",
       "\n",
       "                                             geometry  \n",
       "0   (POLYGON ((-122.484089 37.78791, -122.484346 3...  \n",
       "1   (POLYGON ((-122.435964 37.769038, -122.436851 ...  \n",
       "2   (POLYGON ((-122.454284 37.708222, -122.45456 3...  \n",
       "3   (POLYGON ((-122.408912 37.790132, -122.408797 ...  \n",
       "4   (POLYGON ((-122.435527 37.74146, -122.435632 3...  \n",
       "5   (POLYGON ((-122.471051 37.708198, -122.472829 ...  \n",
       "6   (POLYGON ((-122.420952 37.808967, -122.420614 ...  \n",
       "7   (POLYGON ((-122.425578 37.756617, -122.424949 ...  \n",
       "8   (POLYGON ((-122.451436 37.758735, -122.451399 ...  \n",
       "9   (POLYGON ((-122.373133 37.832253, -122.368622 ...  \n",
       "10  (POLYGON ((-122.478735 37.786898, -122.477816 ...  \n",
       "11  (POLYGON ((-122.42085 37.708335, -122.423878 3...  \n",
       "12  (POLYGON ((-122.440824 37.716455, -122.438284 ...  \n",
       "13  (POLYGON ((-122.469641 37.738545, -122.470607 ...  \n",
       "14  (POLYGON ((-122.394252 37.800074, -122.394244 ...  \n",
       "15  (POLYGON ((-122.459123 37.708218, -122.459728 ...  \n",
       "16  (POLYGON ((-122.424756 37.747849, -122.424949 ...  \n",
       "17  (POLYGON ((-122.452524 37.723167, -122.456948 ...  \n",
       "18  (POLYGON ((-122.446457 37.775805, -122.454635 ...  \n",
       "19  (POLYGON ((-122.446806 37.805401, -122.44678 3...  \n",
       "20  (POLYGON ((-122.388108 37.747803, -122.3881 37...  \n",
       "21  (POLYGON ((-122.394984 37.70841, -122.399685 3...  \n",
       "22  (POLYGON ((-122.446825 37.787251, -122.447228 ...  \n",
       "23  (POLYGON ((-122.4626 37.789041, -122.460923 37...  \n",
       "24  (POLYGON ((-122.387425 37.7805, -122.387407 37...  \n",
       "25  (POLYGON ((-122.424183 37.742262, -122.423941 ...  \n",
       "26  (POLYGON ((-122.379963 37.752061, -122.382792 ...  \n",
       "27  (POLYGON ((-122.446438 37.761036, -122.446408 ...  \n",
       "28  (POLYGON ((-122.46142 37.751562, -122.460354 3...  \n",
       "29  (POLYGON ((-122.428255 37.731785, -122.428147 ...  \n",
       "30  (POLYGON ((-122.408767 37.790163, -122.408797 ...  \n",
       "31  (POLYGON ((-122.410635 37.809724, -122.410898 ...  \n",
       "32  (POLYGON ((-122.447983 37.806972, -122.447876 ...  \n",
       "33  (POLYGON ((-122.418609 37.78891, -122.421954 3...  \n",
       "34  (POLYGON ((-122.476014 37.748679, -122.475881 ...  \n",
       "35  (POLYGON ((-122.422213 37.772905, -122.423269 ...  \n",
       "36  (POLYGON ((-122.454691 37.774696, -122.453014 ...  "
      ]
     },
     "execution_count": 80,
     "metadata": {},
     "output_type": "execute_result"
    }
   ],
   "source": [
    "neighborhoods"
   ]
  }
 ],
 "metadata": {
  "kernelspec": {
   "display_name": "Python 3",
   "language": "python",
   "name": "python3"
  },
  "language_info": {
   "codemirror_mode": {
    "name": "ipython",
    "version": 3
   },
   "file_extension": ".py",
   "mimetype": "text/x-python",
   "name": "python",
   "nbconvert_exporter": "python",
   "pygments_lexer": "ipython3",
   "version": "3.6.5"
  }
 },
 "nbformat": 4,
 "nbformat_minor": 2
}
