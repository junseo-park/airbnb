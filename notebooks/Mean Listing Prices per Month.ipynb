{
 "cells": [
  {
   "cell_type": "code",
   "execution_count": 21,
   "metadata": {},
   "outputs": [],
   "source": [
    "import pandas as pd\n",
    "# import geopandas as gpd\n",
    "import numpy as np\n",
    "import matplotlib.pyplot as plt\n",
    "import seaborn as sns\n",
    "from pathlib import Path\n",
    "import re\n",
    "import datetime\n",
    "\n",
    "sns.set()\n",
    "\n",
    "DATA_DIR = Path('../data/')\n",
    "pd.set_option('max_columns', 999)"
   ]
  },
  {
   "cell_type": "code",
   "execution_count": 25,
   "metadata": {},
   "outputs": [
    {
     "name": "stderr",
     "output_type": "stream",
     "text": [
      "/Users/valerietan/miniconda2/envs/data100/lib/python3.6/site-packages/IPython/core/interactiveshell.py:2728: DtypeWarning: Columns (43) have mixed types. Specify dtype option on import or set low_memory=False.\n",
      "  interactivity=interactivity, compiler=compiler, result=result)\n"
     ]
    }
   ],
   "source": [
    "jan_17 = pd.read_csv('../data/calendar_2017-01-01.csv.gz', compression='gzip')\n",
    "feb_17 = pd.read_csv('../data/calendar_2017-02-02.csv.gz', compression='gzip')\n",
    "mar_17 = pd.read_csv('../data/calendar_2017-03-02.csv.gz', compression='gzip')\n",
    "apr_17 = pd.read_csv('../data/calendar_2017-04-02.csv.gz', compression='gzip')\n",
    "may_17 = pd.read_csv('../data/calendar_2017-05-02.csv.gz', compression='gzip')\n",
    "jun_17 = pd.read_csv('../data/calendar_2017-06-02.csv.gz', compression='gzip')\n",
    "jul_17 = pd.read_csv('../data/calendar_2017-07-02.csv.gz', compression='gzip')\n",
    "aug_17 = pd.read_csv('../data/calendar_2017-08-02.csv.gz', compression='gzip')\n",
    "sep_17 = pd.read_csv('../data/calendar_2017-09-02.csv.gz', compression='gzip')\n",
    "oct_17 = pd.read_csv('../data/calendar_2017-10-02.csv.gz', compression='gzip')\n",
    "nov_17 = pd.read_csv('../data/calendar_2017-11-01.csv.gz', compression='gzip')\n",
    "dec_17 = pd.read_csv('../data/calendar_2017-12-02.csv.gz', compression='gzip')\n",
    "\n",
    "jan_17_listing = pd.read_csv('../data/listings_2017-01-01.csv.gz', compression='gzip')\n",
    "feb_17_listing = pd.read_csv('../data/listings_2017-02-02.csv.gz', compression='gzip')\n",
    "mar_17_listing = pd.read_csv('../data/listings_2017-03-02.csv.gz', compression='gzip')\n",
    "apr_17_listing = pd.read_csv('../data/listings_2017-04-02.csv.gz', compression='gzip')\n",
    "may_17_listing = pd.read_csv('../data/listings_2017-05-02.csv.gz', compression='gzip')\n",
    "jun_17_listing = pd.read_csv('../data/listings_2017-06-02.csv.gz', compression='gzip')\n",
    "jul_17_listing = pd.read_csv('../data/listings_2017-07-02.csv.gz', compression='gzip')\n",
    "aug_17_listing = pd.read_csv('../data/listings_2017-08-02.csv.gz', compression='gzip')\n",
    "sep_17_listing = pd.read_csv('../data/listings_2017-09-02.csv.gz', compression='gzip')\n",
    "oct_17_listing = pd.read_csv('../data/listings_2017-10-02.csv.gz', compression='gzip')\n",
    "nov_17_listing = pd.read_csv('../data/listings_2017-11-01.csv.gz', compression='gzip')\n",
    "dec_17_listing = pd.read_csv('../data/listings_2017-12-02.csv.gz', compression='gzip')"
   ]
  },
  {
   "cell_type": "code",
   "execution_count": 31,
   "metadata": {},
   "outputs": [],
   "source": [
    "months = ['jan', 'feb', 'mar', 'apr', 'may', 'jun', 'jul', 'aug', 'sep', 'oct', 'nov', 'dec']\n",
    "cal = [jan_17, feb_17, mar_17, apr_17, may_17, jun_17, jul_17, aug_17, sep_17, oct_17, nov_17, dec_17]\n",
    "list = [jan_17_listing, feb_17_listing, mar_17_listing, apr_17_listing, may_17_listing, jun_17_listing, \n",
    "        jul_17_listing, aug_17_listing, sep_17_listing, oct_17_listing, nov_17_listing, dec_17_listing]"
   ]
  },
  {
   "cell_type": "code",
   "execution_count": 32,
   "metadata": {},
   "outputs": [],
   "source": [
    "def join_tables(cal, list):\n",
    "    list = list[[\"id\", \"room_type\"]]\n",
    "    cal = cal.set_index(\"listing_id\").join(list.set_index(\"id\"))\n",
    "    cal['price'] = (cal.loc[:, 'price']\n",
    "                    .str.extract(r'\\$(.*)', expand=False)\n",
    "                    .str.replace(r',', '')\n",
    "                    .astype(np.float_)\n",
    "                   )\n",
    "    cal = cal.groupby(['room_type']).mean()\n",
    "    return cal"
   ]
  },
  {
   "cell_type": "code",
   "execution_count": 23,
   "metadata": {},
   "outputs": [],
   "source": [
    "jan_clean = jan_17_listing[[\"id\", \"room_type\"]]\n",
    "jan_17_join = jan_17.set_index(\"listing_id\").join(jan_clean.set_index(\"id\"))\n",
    "jan_17_entire = jan_17_join[jan_17_join[\"room_type\"] == \"Entire home/apt\"]\n",
    "jan_17_entire.head()\n",
    "jan_17_join['price'] = (jan_17_join.loc[:, 'price']\n",
    "                        .str.extract(r'\\$(.*)', expand=False)\n",
    "                        .str.replace(r',', '')\n",
    "                        .astype(np.float_)\n",
    "                       )\n",
    "jan_agg = jan_17_join.groupby(['room_type']).mean()"
   ]
  },
  {
   "cell_type": "code",
   "execution_count": 77,
   "metadata": {},
   "outputs": [],
   "source": [
    "for i in range(12):\n",
    "    months[i] = join_tables(cal[i], list[i])\n",
    "    months[i] = months[i].reset_index()"
   ]
  },
  {
   "cell_type": "code",
   "execution_count": 79,
   "metadata": {},
   "outputs": [
    {
     "data": {
      "text/html": [
       "<div>\n",
       "<style scoped>\n",
       "    .dataframe tbody tr th:only-of-type {\n",
       "        vertical-align: middle;\n",
       "    }\n",
       "\n",
       "    .dataframe tbody tr th {\n",
       "        vertical-align: top;\n",
       "    }\n",
       "\n",
       "    .dataframe thead th {\n",
       "        text-align: right;\n",
       "    }\n",
       "</style>\n",
       "<table border=\"1\" class=\"dataframe\">\n",
       "  <thead>\n",
       "    <tr style=\"text-align: right;\">\n",
       "      <th></th>\n",
       "      <th>room_type</th>\n",
       "      <th>price</th>\n",
       "      <th>2</th>\n",
       "      <th>3</th>\n",
       "      <th>4</th>\n",
       "      <th>5</th>\n",
       "      <th>6</th>\n",
       "      <th>7</th>\n",
       "      <th>8</th>\n",
       "      <th>9</th>\n",
       "      <th>10</th>\n",
       "      <th>11</th>\n",
       "      <th>12</th>\n",
       "    </tr>\n",
       "  </thead>\n",
       "  <tbody>\n",
       "    <tr>\n",
       "      <th>0</th>\n",
       "      <td>Entire home/apt</td>\n",
       "      <td>317.173805</td>\n",
       "      <td>323.332799</td>\n",
       "      <td>321.454639</td>\n",
       "      <td>324.222257</td>\n",
       "      <td>329.397631</td>\n",
       "      <td>343.049218</td>\n",
       "      <td>334.500068</td>\n",
       "      <td>337.596324</td>\n",
       "      <td>334.656442</td>\n",
       "      <td>337.703808</td>\n",
       "      <td>328.723335</td>\n",
       "      <td>313.676351</td>\n",
       "    </tr>\n",
       "    <tr>\n",
       "      <th>1</th>\n",
       "      <td>Private room</td>\n",
       "      <td>140.589391</td>\n",
       "      <td>140.569896</td>\n",
       "      <td>147.971061</td>\n",
       "      <td>146.075760</td>\n",
       "      <td>156.052798</td>\n",
       "      <td>171.770108</td>\n",
       "      <td>138.310984</td>\n",
       "      <td>144.484773</td>\n",
       "      <td>134.072574</td>\n",
       "      <td>139.886147</td>\n",
       "      <td>155.885706</td>\n",
       "      <td>134.662639</td>\n",
       "    </tr>\n",
       "    <tr>\n",
       "      <th>2</th>\n",
       "      <td>Shared room</td>\n",
       "      <td>138.864476</td>\n",
       "      <td>134.502616</td>\n",
       "      <td>109.822131</td>\n",
       "      <td>87.298230</td>\n",
       "      <td>85.987303</td>\n",
       "      <td>109.353346</td>\n",
       "      <td>107.099116</td>\n",
       "      <td>94.069246</td>\n",
       "      <td>93.343963</td>\n",
       "      <td>82.725451</td>\n",
       "      <td>113.454884</td>\n",
       "      <td>80.372612</td>\n",
       "    </tr>\n",
       "  </tbody>\n",
       "</table>\n",
       "</div>"
      ],
      "text/plain": [
       "         room_type       price           2           3           4  \\\n",
       "0  Entire home/apt  317.173805  323.332799  321.454639  324.222257   \n",
       "1     Private room  140.589391  140.569896  147.971061  146.075760   \n",
       "2      Shared room  138.864476  134.502616  109.822131   87.298230   \n",
       "\n",
       "            5           6           7           8           9          10  \\\n",
       "0  329.397631  343.049218  334.500068  337.596324  334.656442  337.703808   \n",
       "1  156.052798  171.770108  138.310984  144.484773  134.072574  139.886147   \n",
       "2   85.987303  109.353346  107.099116   94.069246   93.343963   82.725451   \n",
       "\n",
       "           11          12  \n",
       "0  328.723335  313.676351  \n",
       "1  155.885706  134.662639  \n",
       "2  113.454884   80.372612  "
      ]
     },
     "execution_count": 79,
     "metadata": {},
     "output_type": "execute_result"
    }
   ],
   "source": [
    "# jan.columns = [\"room_type\", \"jan\"]\n",
    "# jan[\"feb\"] = feb[\"price\"]\n",
    "# jan.head()\n",
    "# temp = jan.join(feb.set_index(\"room_type\"), how = \"left\")\n",
    "\n",
    "all_months = months[0].copy()\n",
    "\n",
    "for i in range(1, 12):\n",
    "    all_months[i + 1] = months[i][\"price\"]\n",
    "\n",
    "all_months.head()"
   ]
  },
  {
   "cell_type": "code",
   "execution_count": 80,
   "metadata": {},
   "outputs": [],
   "source": [
    "all_months = all_months.rename(columns={\"price\": 1})"
   ]
  },
  {
   "cell_type": "code",
   "execution_count": 81,
   "metadata": {},
   "outputs": [
    {
     "data": {
      "text/html": [
       "<div>\n",
       "<style scoped>\n",
       "    .dataframe tbody tr th:only-of-type {\n",
       "        vertical-align: middle;\n",
       "    }\n",
       "\n",
       "    .dataframe tbody tr th {\n",
       "        vertical-align: top;\n",
       "    }\n",
       "\n",
       "    .dataframe thead th {\n",
       "        text-align: right;\n",
       "    }\n",
       "</style>\n",
       "<table border=\"1\" class=\"dataframe\">\n",
       "  <thead>\n",
       "    <tr style=\"text-align: right;\">\n",
       "      <th></th>\n",
       "      <th>room_type</th>\n",
       "      <th>1</th>\n",
       "      <th>2</th>\n",
       "      <th>3</th>\n",
       "      <th>4</th>\n",
       "      <th>5</th>\n",
       "      <th>6</th>\n",
       "      <th>7</th>\n",
       "      <th>8</th>\n",
       "      <th>9</th>\n",
       "      <th>10</th>\n",
       "      <th>11</th>\n",
       "      <th>12</th>\n",
       "    </tr>\n",
       "  </thead>\n",
       "  <tbody>\n",
       "    <tr>\n",
       "      <th>0</th>\n",
       "      <td>Entire home/apt</td>\n",
       "      <td>317.173805</td>\n",
       "      <td>323.332799</td>\n",
       "      <td>321.454639</td>\n",
       "      <td>324.222257</td>\n",
       "      <td>329.397631</td>\n",
       "      <td>343.049218</td>\n",
       "      <td>334.500068</td>\n",
       "      <td>337.596324</td>\n",
       "      <td>334.656442</td>\n",
       "      <td>337.703808</td>\n",
       "      <td>328.723335</td>\n",
       "      <td>313.676351</td>\n",
       "    </tr>\n",
       "    <tr>\n",
       "      <th>1</th>\n",
       "      <td>Private room</td>\n",
       "      <td>140.589391</td>\n",
       "      <td>140.569896</td>\n",
       "      <td>147.971061</td>\n",
       "      <td>146.075760</td>\n",
       "      <td>156.052798</td>\n",
       "      <td>171.770108</td>\n",
       "      <td>138.310984</td>\n",
       "      <td>144.484773</td>\n",
       "      <td>134.072574</td>\n",
       "      <td>139.886147</td>\n",
       "      <td>155.885706</td>\n",
       "      <td>134.662639</td>\n",
       "    </tr>\n",
       "    <tr>\n",
       "      <th>2</th>\n",
       "      <td>Shared room</td>\n",
       "      <td>138.864476</td>\n",
       "      <td>134.502616</td>\n",
       "      <td>109.822131</td>\n",
       "      <td>87.298230</td>\n",
       "      <td>85.987303</td>\n",
       "      <td>109.353346</td>\n",
       "      <td>107.099116</td>\n",
       "      <td>94.069246</td>\n",
       "      <td>93.343963</td>\n",
       "      <td>82.725451</td>\n",
       "      <td>113.454884</td>\n",
       "      <td>80.372612</td>\n",
       "    </tr>\n",
       "  </tbody>\n",
       "</table>\n",
       "</div>"
      ],
      "text/plain": [
       "         room_type           1           2           3           4  \\\n",
       "0  Entire home/apt  317.173805  323.332799  321.454639  324.222257   \n",
       "1     Private room  140.589391  140.569896  147.971061  146.075760   \n",
       "2      Shared room  138.864476  134.502616  109.822131   87.298230   \n",
       "\n",
       "            5           6           7           8           9          10  \\\n",
       "0  329.397631  343.049218  334.500068  337.596324  334.656442  337.703808   \n",
       "1  156.052798  171.770108  138.310984  144.484773  134.072574  139.886147   \n",
       "2   85.987303  109.353346  107.099116   94.069246   93.343963   82.725451   \n",
       "\n",
       "           11          12  \n",
       "0  328.723335  313.676351  \n",
       "1  155.885706  134.662639  \n",
       "2  113.454884   80.372612  "
      ]
     },
     "execution_count": 81,
     "metadata": {},
     "output_type": "execute_result"
    }
   ],
   "source": [
    "all_months.head()"
   ]
  },
  {
   "cell_type": "code",
   "execution_count": 93,
   "metadata": {},
   "outputs": [
    {
     "data": {
      "text/plain": [
       "<matplotlib.axes._subplots.AxesSubplot at 0x1aa5bf0748>"
      ]
     },
     "execution_count": 93,
     "metadata": {},
     "output_type": "execute_result"
    },
    {
     "data": {
      "image/png": "[encoded data removed]",
      "text/plain": [
       "<matplotlib.figure.Figure at 0x1aa764dac8>"
      ]
     },
     "metadata": {},
     "output_type": "display_data"
    }
   ],
   "source": [
    "sns.lineplot(x='month', y='mean_price', hue='room_type',\n",
    "    data=all_months.melt(id_vars='room_type').rename(columns={'variable':'month', 'value':'mean_price'})\n",
    ")"
   ]
  },
  {
   "cell_type": "code",
   "execution_count": null,
   "metadata": {},
   "outputs": [],
   "source": []
  }
 ],
 "metadata": {
  "kernelspec": {
   "display_name": "Python 3",
   "language": "python",
   "name": "python3"
  },
  "language_info": {
   "codemirror_mode": {
    "name": "ipython",
    "version": 3
   },
   "file_extension": ".py",
   "mimetype": "text/x-python",
   "name": "python",
   "nbconvert_exporter": "python",
   "pygments_lexer": "ipython3",
   "version": "3.6.4"
  }
 },
 "nbformat": 4,
 "nbformat_minor": 2
}
